{
  "cells": [
    {
      "cell_type": "markdown",
      "metadata": {
        "id": "8RAFirMgwTvJ"
      },
      "source": [
        "#Assignment 5: Write a program to implement simple web crawler."
      ]
    },
    {
      "cell_type": "code",
      "execution_count": 1,
      "metadata": {
        "colab": {
          "base_uri": "https://localhost:8080/",
          "height": 206
        },
        "id": "kh9wYu_1uh7c",
        "outputId": "16a0c2fc-9f33-47e2-e405-07a6213be8b9"
      },
      "outputs": [
        {
          "data": {
            "text/html": [
              "<div>\n",
              "<style scoped>\n",
              "    .dataframe tbody tr th:only-of-type {\n",
              "        vertical-align: middle;\n",
              "    }\n",
              "\n",
              "    .dataframe tbody tr th {\n",
              "        vertical-align: top;\n",
              "    }\n",
              "\n",
              "    .dataframe thead th {\n",
              "        text-align: right;\n",
              "    }\n",
              "</style>\n",
              "<table border=\"1\" class=\"dataframe\">\n",
              "  <thead>\n",
              "    <tr style=\"text-align: right;\">\n",
              "      <th></th>\n",
              "      <th>Title</th>\n",
              "      <th>Category</th>\n",
              "      <th>News</th>\n",
              "    </tr>\n",
              "  </thead>\n",
              "  <tbody>\n",
              "    <tr>\n",
              "      <th>0</th>\n",
              "      <td>ইরানের বিরুদ্ধে ইসরায়েল কীভাবে পাল্টা হামলা চা...</td>\n",
              "      <td>World</td>\n",
              "      <td>ছবির উৎস, Reuters ইসরায়েলে ইরানের ক্ষেপণাস্ত্র...</td>\n",
              "    </tr>\n",
              "    <tr>\n",
              "      <th>1</th>\n",
              "      <td>ইরান-ইসরায়েল: সামরিক শক্তিতে কে এগিয়ে?</td>\n",
              "      <td>World</td>\n",
              "      <td>ছবির উৎস, Getty Images হেজবুল্লাহ নেতা হাসান ন...</td>\n",
              "    </tr>\n",
              "    <tr>\n",
              "      <th>2</th>\n",
              "      <td>ইসরায়েলে উপর্যুপরি ক্ষেপণাস্ত্র হামলা চালিয়েছে...</td>\n",
              "      <td>World</td>\n",
              "      <td>ছবির উৎস, Getty Images ইসরায়েলকে লক্ষ্য করে শত...</td>\n",
              "    </tr>\n",
              "    <tr>\n",
              "      <th>3</th>\n",
              "      <td>লেবাননে হেজবুল্লাহর বিরুদ্ধে ইসরায়েলের স্থল অভ...</td>\n",
              "      <td>World</td>\n",
              "      <td>ছবির উৎস, Getty Images ইসরায়েল লেবাননের দক্ষিণ...</td>\n",
              "    </tr>\n",
              "    <tr>\n",
              "      <th>4</th>\n",
              "      <td>ইসরায়েলের হামলায় দশ লাখের বেশি মানুষের বাস্তুচ...</td>\n",
              "      <td>World</td>\n",
              "      <td>ছবির উৎস, Reuters লেবাননের প্রধানমন্ত্রী নাজিব...</td>\n",
              "    </tr>\n",
              "  </tbody>\n",
              "</table>\n",
              "</div>"
            ],
            "text/plain": [
              "                                               Title Category  \\\n",
              "0  ইরানের বিরুদ্ধে ইসরায়েল কীভাবে পাল্টা হামলা চা...    World   \n",
              "1             ইরান-ইসরায়েল: সামরিক শক্তিতে কে এগিয়ে?    World   \n",
              "2  ইসরায়েলে উপর্যুপরি ক্ষেপণাস্ত্র হামলা চালিয়েছে...    World   \n",
              "3  লেবাননে হেজবুল্লাহর বিরুদ্ধে ইসরায়েলের স্থল অভ...    World   \n",
              "4  ইসরায়েলের হামলায় দশ লাখের বেশি মানুষের বাস্তুচ...    World   \n",
              "\n",
              "                                                News  \n",
              "0  ছবির উৎস, Reuters ইসরায়েলে ইরানের ক্ষেপণাস্ত্র...  \n",
              "1  ছবির উৎস, Getty Images হেজবুল্লাহ নেতা হাসান ন...  \n",
              "2  ছবির উৎস, Getty Images ইসরায়েলকে লক্ষ্য করে শত...  \n",
              "3  ছবির উৎস, Getty Images ইসরায়েল লেবাননের দক্ষিণ...  \n",
              "4  ছবির উৎস, Reuters লেবাননের প্রধানমন্ত্রী নাজিব...  "
            ]
          },
          "execution_count": 1,
          "metadata": {},
          "output_type": "execute_result"
        }
      ],
      "source": [
        "import requests\n",
        "from bs4 import BeautifulSoup\n",
        "import pandas as pd\n",
        "\n",
        "titles = []\n",
        "news = []\n",
        "categories = []\n",
        "\n",
        "url = f\"https://www.bbc.com/bengali/topics/c907347rezkt?page=2\"\n",
        "\n",
        "# Send an HTTP GET request and parse the content with BeautifulSoup\n",
        "response = requests.get(url)\n",
        "soup = BeautifulSoup(response.text, 'html.parser')\n",
        "\n",
        "# Find all the <li> elements with class 'bbc-t44f9r'\n",
        "li_elements = soup.find_all('li', class_='bbc-t44f9r')\n",
        "\n",
        "# Loop through each 'li' element\n",
        "for li in li_elements:\n",
        "    try:\n",
        "        # Extract the title from the <a> tag within the <li>\n",
        "        title = li.find('a').text.strip()\n",
        "        #Define the category\n",
        "        category = 'World'\n",
        "        # Extract the link to the news article\n",
        "        link = li.find('a')['href']\n",
        "\n",
        "        # Send an HTTP GET request to the article link and parse its content\n",
        "        article_response = requests.get(link)\n",
        "        article_soup = BeautifulSoup(article_response.text, 'html.parser')\n",
        "\n",
        "        # Find and extract the news content from the <p> tag with class 'bbc-12k5sdr e17g058b0'\n",
        "        post_content_div = article_soup.find('div', class_='bbc-1cvxiy9')\n",
        "        if post_content_div:\n",
        "            news_content = \" \".join([p.text.strip() for p in post_content_div.find_all('p')])\n",
        "        else:\n",
        "            news_content = \" \"\n",
        "\n",
        "        titles.append(title)\n",
        "        categories.append(category)\n",
        "        news.append(news_content)\n",
        "\n",
        "    except Exception as e:\n",
        "        print(f\"Error: {e}\")\n",
        "        pass\n",
        "\n",
        "# Create a DataFrame\n",
        "data = {'Title': titles, 'Category': category, 'News': news}\n",
        "df = pd.DataFrame(data)\n",
        "\n",
        "df.head()"
      ]
    }
  ],
  "metadata": {
    "colab": {
      "provenance": []
    },
    "kernelspec": {
      "display_name": "Python 3",
      "name": "python3"
    },
    "language_info": {
      "codemirror_mode": {
        "name": "ipython",
        "version": 3
      },
      "file_extension": ".py",
      "mimetype": "text/x-python",
      "name": "python",
      "nbconvert_exporter": "python",
      "pygments_lexer": "ipython3",
      "version": "3.10.4"
    }
  },
  "nbformat": 4,
  "nbformat_minor": 0
}
